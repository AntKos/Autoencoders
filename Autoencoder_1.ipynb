{
 "cells": [
  {
   "cell_type": "code",
   "execution_count": 1,
   "metadata": {
    "collapsed": true
   },
   "outputs": [],
   "source": [
    "%matplotlib inline\n",
    "import numpy as np\n",
    "import matplotlib.pyplot as plt\n",
    "import tensorflow as tf\n",
    "from tensorflow.examples.tutorials.mnist import input_data"
   ]
  },
  {
   "cell_type": "code",
   "execution_count": 2,
   "metadata": {},
   "outputs": [
    {
     "name": "stdout",
     "output_type": "stream",
     "text": [
      "Extracting MNIST_data/train-images-idx3-ubyte.gz\n",
      "Extracting MNIST_data/train-labels-idx1-ubyte.gz\n",
      "Extracting MNIST_data/t10k-images-idx3-ubyte.gz\n",
      "Extracting MNIST_data/t10k-labels-idx1-ubyte.gz\n"
     ]
    }
   ],
   "source": [
    "mnist = input_data.read_data_sets('MNIST_data', one_hot = True)"
   ]
  },
  {
   "cell_type": "code",
   "execution_count": 3,
   "metadata": {
    "collapsed": true
   },
   "outputs": [],
   "source": [
    "def plot_digits(*args):\n",
    "    args = [x.squeeze() for x in args]\n",
    "    n = min([x.shape[0] for x in args])\n",
    "    \n",
    "    plt.figure(figsize=(2*n, 2*len(args)))\n",
    "    for j in range(n):\n",
    "        for i in range(len(args)):\n",
    "            ax = plt.subplot(len(args), n, i*n + j + 1)\n",
    "            plt.imshow(args[i][j])\n",
    "            plt.gray()\n",
    "            ax.get_xaxis().set_visible(False)\n",
    "            ax.get_yaxis().set_visible(False)\n",
    "\n",
    "    plt.show()"
   ]
  },
  {
   "cell_type": "code",
   "execution_count": 119,
   "metadata": {},
   "outputs": [],
   "source": [
    "#all models are here\n",
    "# + building loss function\n",
    "\n",
    "config = tf.ConfigProto()\n",
    "config.gpu_options.allow_growth = True\n",
    "    \n",
    "sess = tf.InteractiveSession(config=config)\n",
    "\n",
    "input_dim = 784\n",
    "enc_dim = 49\n",
    "\n",
    "#input layer\n",
    "x = tf.placeholder(tf.float32, shape=[None, input_dim]) \n",
    "\n",
    "def flat_ae(x):\n",
    "    \n",
    "   \n",
    "    # hidden layer\n",
    "    W_enc = tf.Variable(tf.random_normal([input_dim, \n",
    "                            enc_dim], mean=0.0, stddev=0.05) )\n",
    "    b_enc = tf.Variable(tf.zeros([enc_dim]) )\n",
    "    h = tf.nn.relu(tf.matmul(x, W_enc) + b_enc)  \n",
    "    \n",
    "    \n",
    "    \n",
    "    #output layer\n",
    "    W_dec = tf.Variable(tf.random_normal([enc_dim,\n",
    "                            input_dim], mean=0.0, stddev=0.05))\n",
    "    b_dec = tf.Variable(tf.zeros([input_dim]))\n",
    "    y = tf.nn.sigmoid(tf.matmul(h, W_dec) + b_dec)\n",
    "    \n",
    "    \n",
    "    return y\n",
    "\n",
    "def deep_sparse_ae(x):\n",
    "    beta = 0.001\n",
    "    \n",
    "     #1st hidden layer\n",
    "    W_1 = tf.Variable(tf.random_normal([input_dim, 256], mean=0.0, stddev=0.05))\n",
    "    b_1 = tf.Variable(tf.zeros(256))\n",
    "    h_1 = tf.matmul(x, W_1) + b_1\n",
    "    \n",
    "    # hidden layer\n",
    "    W_enc = tf.Variable(tf.random_normal([256, \n",
    "                            enc_dim], mean=0.0, stddev=0.05) )\n",
    "    b_enc = tf.Variable(tf.zeros([enc_dim]) )\n",
    "    h = tf.nn.relu(tf.matmul(h_1, W_enc) + b_enc)  \n",
    "    \n",
    "    #3rd hidden layer\n",
    "    W_3 = tf.Variable(tf.random_normal([enc_dim, 256], mean=0.0, stddev=0.05))\n",
    "    b_3 = tf.Variable(tf.zeros(256))\n",
    "    h_3 = tf.matmul(h, W_3) + b_3\n",
    "    \n",
    "    \n",
    "    #output layer\n",
    "    W_dec = tf.Variable(tf.random_normal([256,\n",
    "                            input_dim], mean=0.0, stddev=0.05))\n",
    "    b_dec = tf.Variable(tf.zeros([input_dim]))\n",
    "    y = tf.nn.sigmoid(tf.matmul(h_3, W_dec) + b_dec)\n",
    "    \n",
    "    \n",
    "    L2_penalty = beta * (tf.nn.l2_loss(W_enc) + tf.nn.l2_loss(b_enc))\n",
    "    \n",
    "    return L2_penalty, y\n",
    "\n",
    "def denoising_ae(x):\n",
    "    def gaussian_noise_layer(input_layer):\n",
    "        noise = tf.random_normal(shape=tf.shape(input_layer), mean=0.3, stddev=0.3, dtype=tf.float32) \n",
    "        return input_layer + noise\n",
    "    input_layer = gaussian_noise_layer(x)\n",
    "    \n",
    "    return input_layer, conv_ae2(input_layer)\n",
    "    \n",
    "\n",
    "def conv_ae2(x):\n",
    "    # this is modified code from https://github.com/astorfi/TensorFlow-World/blob/master/codes/3-neural_networks/undercomplete-autoencoder/code/autoencoder.py\n",
    "    # no maxpooling/upsampling, only convolution/deconvolution\n",
    "     # encoder\n",
    "    # 28 x 28 x 1   ->  14 x 14 x 32\n",
    "    # 14 x 14 x 32  ->  7 x 7 x 16\n",
    "    # 7 x 7 x 16    ->  7 x 7 x 1\n",
    "    conv = tf.layers.conv2d\n",
    "    conv_t = tf.layers.conv2d_transpose\n",
    "    \n",
    "    inputs = tf.reshape(x, [-1, 28, 28, 1])\n",
    "    print(\"input: \", inputs.shape)\n",
    "    \n",
    "    net = conv(inputs, 32, [5, 5], strides=2,\n",
    "                      padding='SAME', activation=tf.nn.relu)\n",
    "    print(\"conv_1: \", net.shape)\n",
    "\n",
    "    net = conv(net, 16, [5, 5], strides=2, \n",
    "                      padding='SAME', activation=tf.nn.relu)\n",
    "    print(\"conv_2: \", net.shape)\n",
    "    \n",
    "    net = conv(net, 1, [7, 7],  \n",
    "                      padding='SAME', activation=tf.nn.sigmoid)\n",
    "    print(\"hidden: \", net.shape)\n",
    "    # decoder\n",
    "    # 7 x 7 x 1    ->  7 x 7 x 16\n",
    "    # 7 x 7 x 16   ->  14 x 14 x 32\n",
    "    # 14 x 14 x 32  ->  28 x 28 x 1\n",
    "    net = conv_t(net, 16, [5, 5], strides=2,\n",
    "                     padding='SAME', activation=tf.nn.relu)\n",
    "    print(\"deconv_1: \", net.shape)\n",
    "    \n",
    "    net = conv_t(net, 32, [5, 5], strides=2,\n",
    "                     padding='SAME', activation=tf.nn.relu)\n",
    "    print(\"deconv_2: \", net.shape)\n",
    "    \n",
    "    net = conv_t(net, 1, [5, 5],\n",
    "            padding='SAME', activation=tf.nn.sigmoid)\n",
    "    print(\"out: \", net.shape)\n",
    "    \n",
    "    net = tf.reshape(net, [-1, input_dim])\n",
    "\n",
    "    return net\n",
    "\n",
    "\n",
    "\n",
    "def deep_ae(x):\n",
    "    #hidden layer 1\n",
    "    W1_enc = tf.Variable(tf.random_normal([input_dim,\n",
    "                    enc_dim*3], mean=0.0, stddev=0.05) )\n",
    "    b1_enc = tf.Variable(tf.zeros([enc_dim*3]) )\n",
    "    h1_enc = tf.nn.relu(tf.matmul(x, W1_enc) + b1_enc)  \n",
    "\n",
    "    #hidden layer 2\n",
    "    W2_enc = tf.Variable(tf.random_normal([enc_dim*3,\n",
    "                    enc_dim*2], mean=0.0, stddev=0.05) )\n",
    "    b2_enc = tf.Variable(tf.zeros([enc_dim*2]) )\n",
    "    h2_enc = tf.nn.relu(tf.matmul(h1_enc, W2_enc) + b2_enc) \n",
    "    \n",
    "    #hidden in the middle\n",
    "    W3_enc = tf.Variable(tf.random_normal([enc_dim*2, enc_dim],\n",
    "                            mean=0.0, stddev=0.05) )\n",
    "    b3_enc = tf.Variable(tf.zeros([enc_dim]) )\n",
    "    h3_enc = tf.nn.sigmoid(tf.matmul(h2_enc, W3_enc) + b3_enc) #linear activation\n",
    "    \n",
    "    #hidden layer 4\n",
    "    W4_dec = tf.Variable(tf.random_normal([enc_dim, enc_dim*2],\n",
    "                                         mean=0.0, stddev=0.05))\n",
    "    b4_dec = tf.Variable(tf.zeros([enc_dim*2]))\n",
    "    h4_dec = tf.nn.relu(tf.matmul(h3_enc, W4_dec) + b4_dec)\n",
    "    \n",
    "    #hidden layer 5\n",
    "    W5_dec = tf.Variable(tf.random_normal([enc_dim*2, enc_dim*3],\n",
    "                                mean=0.0, stddev=0.05))\n",
    "    b5_dec = tf.Variable(tf.zeros([enc_dim*3]))\n",
    "    h5_dec = tf.nn.relu(tf.matmul(h4_dec, W5_dec) + b5_dec)\n",
    "    \n",
    "    #output layer\n",
    "    W6_dec = tf.Variable(tf.random_normal([enc_dim*3, input_dim],\n",
    "                                    mean=0.0, stddev=0.05))\n",
    "    b6_dec = tf.Variable(tf.zeros([input_dim]))\n",
    "    y = tf.nn.sigmoid(tf.matmul(h5_dec, W6_dec) + b6_dec)\n",
    "    return y\n",
    "\n",
    "\n",
    "#in_noised, y = denoising_ae(x)\n",
    "l2, y = flat_sparse_ae(x)\n",
    "y_ = tf.placeholder(tf.float32, shape=[None, input_dim])\n",
    "\n",
    "loss = tf.reduce_mean(tf.pow(y - y_, 2) + l2)\n",
    "#loss = tf.reduce_mean(tf.nn.softmax_cross_entropy_with_logits(labels=y_,\n",
    " #                                             logits=y))\n",
    "train_step = tf.train.AdamOptimizer().minimize(loss)\n",
    "sess.run(tf.global_variables_initializer())"
   ]
  },
  {
   "cell_type": "code",
   "execution_count": null,
   "metadata": {},
   "outputs": [],
   "source": []
  },
  {
   "cell_type": "code",
   "execution_count": 120,
   "metadata": {},
   "outputs": [
    {
     "name": "stdout",
     "output_type": "stream",
     "text": [
      "Training Step:0  test loss = 0.243973\n",
      "Training Step:100  test loss = 0.0891823\n",
      "Training Step:200  test loss = 0.100585\n",
      "Training Step:300  test loss = 0.105262\n",
      "Training Step:400  test loss = 0.106449\n",
      "Training Step:500  test loss = 0.106259\n",
      "Training Step:600  test loss = 0.108656\n",
      "Training Step:700  test loss = 0.112345\n",
      "Training Step:800  test loss = 0.118865\n",
      "Training Step:900  test loss = 0.118772\n",
      "Training Step:1000  test loss = 0.113143\n",
      "Training Step:1100  test loss = 0.116614\n",
      "Training Step:1200  test loss = 0.118822\n",
      "Training Step:1300  test loss = 0.122932\n",
      "Training Step:1400  test loss = 0.120822\n",
      "Training Step:1500  test loss = 0.117151\n",
      "Training Step:1600  test loss = 0.123917\n",
      "Training Step:1700  test loss = 0.121786\n",
      "Training Step:1800  test loss = 0.119715\n",
      "Training Step:1900  test loss = 0.120491\n",
      "Training Step:2000  test loss = 0.124067\n",
      "Training Step:2100  test loss = 0.125318\n",
      "Training Step:2200  test loss = 0.123594\n",
      "Training Step:2300  test loss = 0.124745\n",
      "Training Step:2400  test loss = 0.120594\n",
      "Training Step:2500  test loss = 0.126582\n",
      "Training Step:2600  test loss = 0.122988\n",
      "Training Step:2700  test loss = 0.124383\n",
      "Training Step:2800  test loss = 0.122921\n",
      "Training Step:2900  test loss = 0.122119\n",
      "Training Step:3000  test loss = 0.122087\n",
      "Training Step:3100  test loss = 0.125205\n",
      "Training Step:3200  test loss = 0.126541\n",
      "Training Step:3300  test loss = 0.123371\n",
      "Training Step:3400  test loss = 0.126505\n",
      "Training Step:3500  test loss = 0.119887\n",
      "Training Step:3600  test loss = 0.131103\n",
      "Training Step:3700  test loss = 0.124559\n",
      "Training Step:3800  test loss = 0.126764\n",
      "Training Step:3900  test loss = 0.126847\n",
      "Training Step:4000  test loss = 0.127456\n",
      "Training Step:4100  test loss = 0.127621\n",
      "Training Step:4200  test loss = 0.126243\n"
     ]
    }
   ],
   "source": [
    "num_epochs = 20\n",
    "num_images = 55000\n",
    "batch_size = 256\n",
    "val_batch_size = 256\n",
    "steps_in_epoch = num_images / batch_size\n",
    "for i in range(int(num_epochs * steps_in_epoch)):\n",
    "    batch = mnist.train.next_batch(batch_size)\n",
    "    train_step.run(feed_dict={x: batch[0], y_: batch[0]})\n",
    "    if i % 100 == 0:\n",
    "        print('Training Step:' + str(i) + \n",
    "           #   '  train loss =  ' + str(sess.run(loss, feed_dict={x: mnist.train.images, y_: mnist.train.images})) + \n",
    "              '  test loss = ' + str(sess.run(loss, {x: mnist.test.next_batch(val_batch_size)[0],\n",
    "                                                     y_: mnist.test.next_batch(val_batch_size)[0]})))"
   ]
  },
  {
   "cell_type": "code",
   "execution_count": 87,
   "metadata": {},
   "outputs": [
    {
     "data": {
      "image/png": "[encoded data removed]",
      "text/plain": [
       "<matplotlib.figure.Figure at 0x7f19feff59e8>"
      ]
     },
     "metadata": {},
     "output_type": "display_data"
    }
   ],
   "source": [
    "#show results for denoising AE\n",
    "n = 5\n",
    "imgs = mnist.test.images[:n]\n",
    "noised_imgs = in_noised.eval(feed_dict={x:imgs})\n",
    "decoded_imgs = y.eval(feed_dict={in_noised:noised_imgs})\n",
    "\n",
    "im_to_plot = np.reshape(imgs, (n, 28, 28, 1))\n",
    "im_out_to_plot_noised = np.reshape(noised_imgs, (n, 28, 28, 1))\n",
    "im_out_to_plot_decoded = np.reshape(decoded_imgs, (n, 28, 28, 1))\n",
    "\n",
    "plot_digits(im_to_plot, im_out_to_plot_noised, im_out_to_plot_decoded)"
   ]
  },
  {
   "cell_type": "code",
   "execution_count": null,
   "metadata": {},
   "outputs": [],
   "source": []
  },
  {
   "cell_type": "code",
   "execution_count": 122,
   "metadata": {},
   "outputs": [
    {
     "data": {
      "image/png": "[encoded data removed]",
      "text/plain": [
       "<matplotlib.figure.Figure at 0x7f19faa8d240>"
      ]
     },
     "metadata": {},
     "output_type": "display_data"
    }
   ],
   "source": [
    "#show results for simple AEs\n",
    "n = 5\n",
    "imgs = mnist.test.images[:n]\n",
    "enc_dec_imgs = y.eval(feed_dict={x:imgs})\n",
    "\n",
    "im_to_plot = np.reshape(imgs, (n, 28, 28, 1))\n",
    "im_out_to_plot = np.reshape(enc_dec_imgs, (n, 28, 28, 1))\n",
    "plot_digits(im_to_plot, im_out_to_plot)"
   ]
  },
  {
   "cell_type": "code",
   "execution_count": null,
   "metadata": {
    "collapsed": true
   },
   "outputs": [],
   "source": [
    "enc_dec_images.shape"
   ]
  },
  {
   "cell_type": "code",
   "execution_count": null,
   "metadata": {
    "collapsed": true
   },
   "outputs": [],
   "source": []
  }
 ],
 "metadata": {
  "kernelspec": {
   "display_name": "Python 3",
   "language": "python",
   "name": "python3"
  },
  "language_info": {
   "codemirror_mode": {
    "name": "ipython",
    "version": 3
   },
   "file_extension": ".py",
   "mimetype": "text/x-python",
   "name": "python",
   "nbconvert_exporter": "python",
   "pygments_lexer": "ipython3",
   "version": "3.6.1"
  }
 },
 "nbformat": 4,
 "nbformat_minor": 2
}
