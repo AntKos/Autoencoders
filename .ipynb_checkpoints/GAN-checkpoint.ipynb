{
 "cells": [
  {
   "cell_type": "code",
   "execution_count": 1,
   "metadata": {
    "collapsed": true
   },
   "outputs": [],
   "source": [
    "%matplotlib inline\n",
    "import numpy as np\n",
    "import matplotlib.pyplot as plt\n",
    "import tensorflow as tf\n",
    "from tensorflow.examples.tutorials.mnist import input_data"
   ]
  },
  {
   "cell_type": "code",
   "execution_count": 2,
   "metadata": {},
   "outputs": [
    {
     "name": "stdout",
     "output_type": "stream",
     "text": [
      "Extracting MNIST_data/train-images-idx3-ubyte.gz\n",
      "Extracting MNIST_data/train-labels-idx1-ubyte.gz\n",
      "Extracting MNIST_data/t10k-images-idx3-ubyte.gz\n",
      "Extracting MNIST_data/t10k-labels-idx1-ubyte.gz\n"
     ]
    }
   ],
   "source": [
    "mnist = input_data.read_data_sets('MNIST_data', one_hot = True)"
   ]
  },
  {
   "cell_type": "code",
   "execution_count": null,
   "metadata": {
    "collapsed": true
   },
   "outputs": [],
   "source": []
  },
  {
   "cell_type": "code",
   "execution_count": null,
   "metadata": {
    "collapsed": true
   },
   "outputs": [],
   "source": []
  },
  {
   "cell_type": "code",
   "execution_count": 3,
   "metadata": {
    "collapsed": true
   },
   "outputs": [],
   "source": [
    "##Leaky ReLU implementation\n",
    "    \n",
    "def lrelu(x, leak=0.2, name=\"lrelu\"):\n",
    "    with tf.variable_scope(name):\n",
    "        f1 = 0.5 * (1 + leak)\n",
    "        f2 = 0.5 * (1 - leak)\n",
    "        return f1 * x + f2 * abs(x)"
   ]
  },
  {
   "cell_type": "code",
   "execution_count": 6,
   "metadata": {
    "collapsed": true
   },
   "outputs": [],
   "source": [
    "#model parameters\n",
    "input_dim = 784\n",
    "latent_dim = 2\n",
    "batch_size = 256\n",
    "dropout_rate = 0.1\n",
    "num_classes = 10\n",
    "summary_path = 'summary_gan/train'\n",
    "num_images = 55000"
   ]
  },
  {
   "cell_type": "code",
   "execution_count": 5,
   "metadata": {
    "collapsed": true
   },
   "outputs": [],
   "source": [
    "def CGAN_dense(image_in, label_in, z_in):\n",
    "    with tf.variable_scope('generator'):\n",
    "        y = tf.concat([z_in, label_in], 1)\n",
    "        generator_in = y # real number + label\n",
    "        y = tf.layers.dense(y, units=512, \n",
    "                    activation=tf.nn.relu,\n",
    "                    bias_regularizer=tf.nn.l2_loss)\n",
    "        y = tf.layers.dropout(y, dropout_rate)\n",
    "        y = tf.layers.dense(y, units=512, \n",
    "                    activation=tf.nn.relu,\n",
    "                    bias_regularizer=tf.nn.l2_loss)\n",
    "        y = tf.layers.dropout(y, dropout_rate)\n",
    "        y = tf.layers.dense(y, units=input_dim, \n",
    "                    activation=tf.nn.sigmoid,\n",
    "                    bias_regularizer=tf.nn.l2_loss)\n",
    "        generator_out = y\n",
    "        \n",
    "    with tf.variable_scope('discriminator'):\n",
    "        y = tf.concat([image_in, label_in])\n",
    "        discr_in = y # image + label\n",
    "   #     y = tf.concat([y, generator_out, label_in])\n",
    "        y = tf.layers.dense(y, units=512, \n",
    "                    activation=lrelru,\n",
    "                    bias_regularizer=tf.nn.l2_loss)\n",
    "        y = tf.layers.dropout(y, dropout_rate)\n",
    "        y = tf.layers.dense(y, units=512, \n",
    "                    activation=lrelru,\n",
    "                    bias_regularizer=tf.nn.l2_loss)\n",
    "        y = tf.layers.dropout(y, dropout_rate)\n",
    "        y = tf.layers.dense(y, units=1, \n",
    "                    activation=tf.nn.sigmoid)\n",
    "        discr_out = y\n",
    "    return generator_in, generator_out, discr_in, discr_out"
   ]
  },
  {
   "cell_type": "code",
   "execution_count": 7,
   "metadata": {
    "collapsed": true
   },
   "outputs": [],
   "source": [
    "def losses(discr_out):\n",
    "    log_dis_img = tf.reduce_mean(-tf.log(discr_out + 1e-10))\n",
    "    log_dis_gen_z = tf.reduce_mean(-tf.log(1. - discr_out + 1e-10))\n",
    "    loss_gen = -log_dis_gen_z\n",
    "    loss_dis = 0.5 * (log_dis_gen_z + log_dis_img)\n",
    "    return loss_gen, loss_dis"
   ]
  },
  {
   "cell_type": "code",
   "execution_count": null,
   "metadata": {
    "collapsed": true
   },
   "outputs": [],
   "source": [
    "tf.reset_default_graph()\n",
    "config = tf.ConfigProto()\n",
    "config.gpu_options.allow_growth = True\n",
    "sess = tf.InteractiveSession(config=config)\n",
    "\n",
    "\n",
    "\n",
    "#input layer, starting point\n",
    "image_in = tf.placeholder(tf.float32, shape=[None, input_dim],\n",
    "                   name='image_input') \n",
    "label_in = tf.placeholder(tf.float32, shape=[None, num_classes],\n",
    "                        name='label_input')\n",
    "z_in = tf.placeholder(tf.float32, shape=[None, latent_dim],\n",
    "                         name='z_input')\n",
    "\n",
    "\n",
    "gen_in, gen_out, discr_in, discr_out = CGAN_dense(image_in, \n",
    "                                                  label_in, z_in)\n",
    "\n",
    "L_gen, L_dis = losses(discr_out)\n",
    "\n",
    "opt_gen = tf.train.RMSPropOptimizer(0.0003)\n",
    "opt_dis = tf.train.RMSPropOptimizer(0.0001)\n",
    "\n",
    "generator_vars = tf.get_collection(tf.GraphKeys.TRAINABLE_VARIABLES,\n",
    "                                   \"generator\")\n",
    "discrim_vars = tf.get_collection(tf.GraphKeys.TRAINABLE_VARIABLES, \n",
    "                                   \"discriminator\")\n",
    "\n",
    "opt_step_gen = opt_gen.minimize(L_gen, var_list=generator_vars)\n",
    "opt_step_dis = opt_dis.minimize(L_dis, var_list=discrim_vars)\n",
    "\n",
    "\n",
    "merged = tf.summary.merge_all()\n",
    "sess.run(tf.global_variables_initializer())\n",
    "\n",
    "train_writer = tf.summary.FileWriter(summary_path,\n",
    "                                      sess.graph)"
   ]
  }
 ],
 "metadata": {
  "kernelspec": {
   "display_name": "Python 3",
   "language": "python",
   "name": "python3"
  },
  "language_info": {
   "codemirror_mode": {
    "name": "ipython",
    "version": 3
   },
   "file_extension": ".py",
   "mimetype": "text/x-python",
   "name": "python",
   "nbconvert_exporter": "python",
   "pygments_lexer": "ipython3",
   "version": "3.6.1"
  }
 },
 "nbformat": 4,
 "nbformat_minor": 2
}
