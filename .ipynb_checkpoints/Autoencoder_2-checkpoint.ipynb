{
 "cells": [
  {
   "cell_type": "code",
   "execution_count": 1,
   "metadata": {
    "collapsed": true
   },
   "outputs": [],
   "source": [
    "%matplotlib inline\n",
    "import numpy as np\n",
    "import matplotlib.pyplot as plt\n",
    "import tensorflow as tf\n",
    "from tensorflow.examples.tutorials.mnist import input_data"
   ]
  },
  {
   "cell_type": "code",
   "execution_count": 2,
   "metadata": {},
   "outputs": [
    {
     "name": "stdout",
     "output_type": "stream",
     "text": [
      "Extracting MNIST_data/train-images-idx3-ubyte.gz\n",
      "Extracting MNIST_data/train-labels-idx1-ubyte.gz\n",
      "Extracting MNIST_data/t10k-images-idx3-ubyte.gz\n",
      "Extracting MNIST_data/t10k-labels-idx1-ubyte.gz\n"
     ]
    }
   ],
   "source": [
    "mnist = input_data.read_data_sets('MNIST_data', one_hot = True)"
   ]
  },
  {
   "cell_type": "code",
   "execution_count": 3,
   "metadata": {
    "collapsed": true
   },
   "outputs": [],
   "source": [
    "digit_size = 28\n",
    "n = 15 # Картинка с 15x15 цифр\n",
    "\n",
    "def plot_digits(*args, invert_colors=False):\n",
    "    args = [x.squeeze() for x in args]\n",
    "    n = min([x.shape[0] for x in args])\n",
    "    figure = np.zeros((digit_size * len(args), digit_size * n))\n",
    "\n",
    "    for i in range(n):\n",
    "        for j in range(len(args)):\n",
    "            figure[j * digit_size: (j + 1) * digit_size,\n",
    "                   i * digit_size: (i + 1) * digit_size] = args[j][i].squeeze()\n",
    "\n",
    "    if invert_colors:\n",
    "        figure = 1-figure\n",
    "\n",
    "    plt.figure(figsize=(2*n, 2*len(args)))\n",
    "    plt.imshow(figure, cmap='Greys_r')\n",
    "    plt.grid(False)\n",
    "    ax = plt.gca()\n",
    "    ax.get_xaxis().set_visible(False)\n",
    "    ax.get_yaxis().set_visible(False)\n",
    "    plt.show()\n",
    "\n",
    "from scipy.stats import norm\n",
    "# Так как сэмплируем из N(0, I), то сетку узлов, в которых генерируем цифры берем из обратной функции распределения\n",
    "grid_x = norm.ppf(np.linspace(0.05, 0.95, n))\n",
    "grid_y = norm.ppf(np.linspace(0.05, 0.95, n))\n",
    "\n",
    "def draw_manifold(generator_in, generator_out, show=True):\n",
    "    # Рисование цифр из многообразия\n",
    "    figure = np.zeros((digit_size * n, digit_size * n))\n",
    "    for i, yi in enumerate(grid_x):\n",
    "        for j, xi in enumerate(grid_y):\n",
    "            z_sample = np.zeros((1, latent_dim))\n",
    "            z_sample[:, :2] = np.array([[xi, yi]])\n",
    "            x_decoded = generator_out.eval(\n",
    "                feed_dict={generator_in:z_sample})\n",
    "            \n",
    "            x_decoded = np.reshape(x_decoded, (28, 28))\n",
    "            \n",
    "            digit = x_decoded[0].squeeze()\n",
    "            figure[i * digit_size: (i + 1) * digit_size,\n",
    "                   j * digit_size: (j + 1) * digit_size] = digit\n",
    "    if show:\n",
    "        # Визуализация\n",
    "        plt.figure(figsize=(15, 15))\n",
    "        plt.imshow(figure, cmap='Greys_r')\n",
    "        plt.grid(None)\n",
    "        ax = plt.gca()\n",
    "        ax.get_xaxis().set_visible(False)\n",
    "        ax.get_yaxis().set_visible(False)        \n",
    "        plt.show()\n",
    "    return figure\n"
   ]
  },
  {
   "cell_type": "code",
   "execution_count": 39,
   "metadata": {
    "collapsed": true
   },
   "outputs": [],
   "source": [
    "##Leaky ReLU implementation\n",
    "    \n",
    "def lrelu(x, leak=0.2, name=\"lrelu\"):\n",
    "    with tf.variable_scope(name):\n",
    "        f1 = 0.5 * (1 + leak)\n",
    "        f2 = 0.5 * (1 - leak)\n",
    "        return f1 * x + f2 * abs(x)"
   ]
  },
  {
   "cell_type": "code",
   "execution_count": 63,
   "metadata": {
    "scrolled": false
   },
   "outputs": [
    {
     "name": "stdout",
     "output_type": "stream",
     "text": [
      "(?, 2)\n",
      "(?, 2)\n",
      "()\n",
      "()\n"
     ]
    }
   ],
   "source": [
    "from tensorflow.contrib.tensorboard.plugins import projector\n",
    "\n",
    "projectorConfig = projector.ProjectorConfig()\n",
    "\n",
    "config = tf.ConfigProto()\n",
    "config.gpu_options.allow_growth = True\n",
    "tf.reset_default_graph()\n",
    "sess = tf.InteractiveSession(config=config)\n",
    "\n",
    "\n",
    "input_dim = 784\n",
    "latent_dim = 2\n",
    "batch_size = 256\n",
    "dropout_rate = 0.3\n",
    "summary_path = 'summary/train'\n",
    "\n",
    "#input layer, starting point\n",
    "x = tf.placeholder(tf.float32, shape=[None, input_dim], name='input') \n",
    "\n",
    "\n",
    "def vae(x):\n",
    "    \n",
    "    with tf.name_scope('encoder'):\n",
    "        y = tf.layers.dense(x, units=256, activation=tf.nn.relu,\n",
    "                        bias_regularizer=tf.nn.l2_loss)\n",
    "        y = tf.layers.dropout(y, dropout_rate)\n",
    "        y = tf.layers.dense(y, units=128, activation=tf.nn.relu,\n",
    "                       bias_regularizer=tf.nn.l2_loss)\n",
    "    \n",
    "        z_mean = tf.layers.dense(y, latent_dim)\n",
    "        z_std = tf.layers.dense(y, latent_dim)\n",
    "        \n",
    "        \n",
    "        \n",
    "        print(z_mean.shape)\n",
    "    \n",
    "    embedding_mean = config.embeddings.add()\n",
    "    embedding_mean.tensor_name = z_mean.name\n",
    "    embedding_std = config.embeddings.add()\n",
    "    embedding_std.tensor_name = z_std.name\n",
    "    ###sampling and processing\n",
    "    \n",
    "    with tf.name_scope('sampling'):\n",
    "        in_size = tf.shape(x)[0]\n",
    "        sample = tf.random_normal([in_size, latent_dim], 0.0, 1.0)\n",
    "        print(sample.shape)\n",
    "        sampled = z_mean + (z_std * sample)\n",
    "        encoder_out = sampled\n",
    "        \n",
    "        \n",
    "    ###\n",
    "    \n",
    "            \n",
    "        \n",
    "    \n",
    "    \n",
    "    with tf.name_scope('decoder'):\n",
    "        y = tf.layers.dense(encoder_out, units=128, activation=lrelu,\n",
    "                       bias_regularizer=tf.nn.l2_loss)\n",
    "        y = tf.layers.dropout(y, dropout_rate )\n",
    "        y = tf.layers.dense(y, units=256, activation=lrelu,\n",
    "                       bias_regularizer=tf.nn.l2_loss)\n",
    "        y = tf.layers.dropout(y, dropout_rate )\n",
    "        y = tf.layers.dense(y, units=input_dim, activation=tf.nn.sigmoid)\n",
    "    \n",
    "        decoder_out = y\n",
    "        \n",
    "    return encoder_out, z_mean, z_std, decoder_out\n",
    "\n",
    "def vae_loss(x, decoded, z_mean, z_std):\n",
    "  #  dec_loss = tf.reduce_mean( \n",
    "  #     tf.nn.sigmoid_cross_entropy_with_logits(labels=x, \n",
    "  #                                  logits=decoded))\n",
    "    \n",
    "    with tf.name_scope('loss'):\n",
    "        with tf.name_scope('decoding_loss'):\n",
    "            dec_loss = tf.reduce_mean(tf.pow(x - decoded, 2))    \n",
    "            print(dec_loss.shape)\n",
    "        \n",
    "        with tf.name_scope('KL_loss'):\n",
    "            kl_loss = 0.5 * tf.reduce_sum(tf.square(z_mean)\n",
    "                                 + tf.square(z_std)\n",
    "                                 - tf.log(tf.square(z_std))\n",
    "                                 -1)\n",
    "            print(kl_loss.shape)\n",
    "\n",
    "    return dec_loss# + kl_loss\n",
    "\n",
    "encoder_out, z_mean, z_std, decoder_out = vae(x)\n",
    "\n",
    "loss = vae_loss(x, decoder_out, z_mean, z_std)\n",
    "train_step = tf.train.AdamOptimizer(learning_rate=0.001).minimize(loss)\n",
    "\n",
    "embedding_var = \n",
    "\n",
    "merged = tf.summary.merge_all()\n",
    "\n",
    "sess.run(tf.global_variables_initializer())\n",
    "\n",
    "train_writer = tf.summary.FileWriter(summary_path,\n",
    "                                      sess.graph)"
   ]
  },
  {
   "cell_type": "code",
   "execution_count": 64,
   "metadata": {
    "collapsed": true
   },
   "outputs": [],
   "source": [
    "from IPython.display import clear_output\n",
    "figs = []\n",
    "latent_distrs = []\n",
    "epochs = []\n",
    "\n",
    "def on_epoch_end(epoch, test_batch):\n",
    "    clear_output()\n",
    "    n = 5\n",
    "    imgs = mnist.test.images[:n]\n",
    "    decoded = decoder_out.eval(feed_dict={x:imgs})\n",
    "    plot_digits(np.reshape(imgs, (n, 28, 28, 1)), \n",
    "                np.reshape(decoded, (n, 28, 28, 1)))\n",
    "    figure = draw_manifold(encoder_out, decoder_out, show=False)\n",
    "    \n",
    "    epochs.append(epoch)\n",
    "    figs.append(figure)\n",
    "    \n",
    "    lat_vars = z_mean.eval(feed_dict={x:test_batch})\n",
    "    \n",
    "    latent_distrs.append(lat_vars)\n",
    "        "
   ]
  },
  {
   "cell_type": "code",
   "execution_count": 65,
   "metadata": {},
   "outputs": [
    {
     "data": {
      "image/png": "[encoded data removed]",
      "text/plain": [
       "<matplotlib.figure.Figure at 0x7f620e74a5f8>"
      ]
     },
     "metadata": {},
     "output_type": "display_data"
    },
    {
     "name": "stdout",
     "output_type": "stream",
     "text": [
      "Epoch:19  test loss = 0.0394018\n"
     ]
    }
   ],
   "source": [
    "num_epochs = 20\n",
    "num_images = 55000\n",
    "val_batch_size = 256\n",
    "steps_in_epoch = int(num_images / batch_size)\n",
    "current_epoch = 0\n",
    "\n",
    "figs = []\n",
    "latent_distrs = []\n",
    "epochs = []\n",
    "\n",
    "test_batch = mnist.test.next_batch(val_batch_size)[0]\n",
    "\n",
    "for i in range(num_epochs * steps_in_epoch):\n",
    "    batch = mnist.train.next_batch(batch_size)\n",
    "    sess.run([train_step], feed_dict={x: batch[0]})\n",
    "   # train_writer.add_summary(summary, i)\n",
    "    if (i % steps_in_epoch == 0) and (i > 0):\n",
    "        current_epoch = current_epoch + 1\n",
    "        \n",
    "        on_epoch_end(current_epoch, test_batch)\n",
    "        \n",
    "        test_loss = sess.run(loss, {x: test_batch })\n",
    "       # print('loss shape = ' + str(test_loss.shape))\n",
    "        print('Epoch:' + str(current_epoch) + \n",
    "           #   '  train loss =  ' + str(sess.run(loss, feed_dict={x: mnist.train.images, y_: mnist.train.images})) + \n",
    "              '  test loss = ' + str(test_loss))"
   ]
  },
  {
   "cell_type": "code",
   "execution_count": null,
   "metadata": {
    "collapsed": true
   },
   "outputs": [],
   "source": []
  },
  {
   "cell_type": "code",
   "execution_count": null,
   "metadata": {
    "collapsed": true
   },
   "outputs": [],
   "source": []
  },
  {
   "cell_type": "code",
   "execution_count": null,
   "metadata": {
    "collapsed": true
   },
   "outputs": [],
   "source": []
  },
  {
   "cell_type": "code",
   "execution_count": null,
   "metadata": {
    "collapsed": true
   },
   "outputs": [],
   "source": []
  },
  {
   "cell_type": "code",
   "execution_count": null,
   "metadata": {
    "collapsed": true
   },
   "outputs": [],
   "source": []
  },
  {
   "cell_type": "code",
   "execution_count": null,
   "metadata": {
    "collapsed": true
   },
   "outputs": [],
   "source": []
  },
  {
   "cell_type": "code",
   "execution_count": null,
   "metadata": {},
   "outputs": [],
   "source": [
    "test_batch = mnist.test.next_batch(val_batch_size)[0]\n",
    "on_epoch_end(current_epoch, test_batch)"
   ]
  },
  {
   "cell_type": "code",
   "execution_count": null,
   "metadata": {
    "collapsed": true
   },
   "outputs": [],
   "source": []
  }
 ],
 "metadata": {
  "kernelspec": {
   "display_name": "Python 3",
   "language": "python",
   "name": "python3"
  },
  "language_info": {
   "codemirror_mode": {
    "name": "ipython",
    "version": 3
   },
   "file_extension": ".py",
   "mimetype": "text/x-python",
   "name": "python",
   "nbconvert_exporter": "python",
   "pygments_lexer": "ipython3",
   "version": "3.6.1"
  }
 },
 "nbformat": 4,
 "nbformat_minor": 2
}
